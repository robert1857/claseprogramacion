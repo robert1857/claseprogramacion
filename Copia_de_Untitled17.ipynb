{
  "nbformat": 4,
  "nbformat_minor": 0,
  "metadata": {
    "colab": {
      "name": "Copia de Untitled17.ipynb",
      "provenance": [],
      "collapsed_sections": [],
      "mount_file_id": "1mQqBZfzzdWDZOx-cG36jxmlhx8FzIZmi",
      "authorship_tag": "ABX9TyMbv4vqwXROXx4ITbArq4fb",
      "include_colab_link": true
    },
    "kernelspec": {
      "name": "python3",
      "display_name": "Python 3"
    }
  },
  "cells": [
    {
      "cell_type": "markdown",
      "metadata": {
        "id": "view-in-github",
        "colab_type": "text"
      },
      "source": [
        "<a href=\"https://colab.research.google.com/github/robert1857/claseprogramacion/blob/master/Copia_de_Untitled17.ipynb\" target=\"_parent\"><img src=\"https://colab.research.google.com/assets/colab-badge.svg\" alt=\"Open In Colab\"/></a>"
      ]
    },
    {
      "cell_type": "code",
      "metadata": {
        "id": "wdu6U0B1_TRL",
        "colab_type": "code",
        "colab": {}
      },
      "source": [
        ""
      ],
      "execution_count": 0,
      "outputs": []
    },
    {
      "cell_type": "markdown",
      "metadata": {
        "id": "VNc_e_5Z_nS9",
        "colab_type": "text"
      },
      "source": [
        "\n",
        "Escribir un programa que muestre por pantalla la cadena ¡Hola Mundo!.\n"
      ]
    },
    {
      "cell_type": "markdown",
      "metadata": {
        "id": "FQM3YxtW_90P",
        "colab_type": "text"
      },
      "source": [
        ""
      ]
    },
    {
      "cell_type": "code",
      "metadata": {
        "id": "RV_s37yU_-uw",
        "colab_type": "code",
        "outputId": "2a4ffce3-9e69-4885-cb95-1649239a83bb",
        "colab": {
          "base_uri": "https://localhost:8080/",
          "height": 34
        }
      },
      "source": [
        "print(\"Hola mundo\")"
      ],
      "execution_count": 0,
      "outputs": [
        {
          "output_type": "stream",
          "text": [
            "Hola mundo\n"
          ],
          "name": "stdout"
        }
      ]
    },
    {
      "cell_type": "markdown",
      "metadata": {
        "id": "pH9msncLAVvL",
        "colab_type": "text"
      },
      "source": [
        ""
      ]
    },
    {
      "cell_type": "markdown",
      "metadata": {
        "id": "ShwMrlDjAefQ",
        "colab_type": "text"
      },
      "source": [
        "Escribir un programa que almacene la cadena ¡Hola Mundo! en una variable y luego muestre por pantalla el contenido de la variable."
      ]
    },
    {
      "cell_type": "code",
      "metadata": {
        "id": "uM0KQ2EMAiru",
        "colab_type": "code",
        "outputId": "9cb5a687-a089-4334-b4c1-235a67cab74b",
        "colab": {
          "base_uri": "https://localhost:8080/",
          "height": 34
        }
      },
      "source": [
        "cadena= \"Hola mundo\"\n",
        "print(cadena)"
      ],
      "execution_count": 0,
      "outputs": [
        {
          "output_type": "stream",
          "text": [
            "Hola mundo\n"
          ],
          "name": "stdout"
        }
      ]
    },
    {
      "cell_type": "markdown",
      "metadata": {
        "id": "kWczVwVFAsly",
        "colab_type": "text"
      },
      "source": [
        "Escribir un programa que pregunte el nombre del usuario en la consola y después de que el usuario lo introduzca muestre por pantalla la cadena ¡Hola !, donde es el nombre que el usuario haya introducido."
      ]
    },
    {
      "cell_type": "code",
      "metadata": {
        "id": "ZCeRVywKAzHz",
        "colab_type": "code",
        "outputId": "5e20cd1b-d1a3-4eae-d5a0-3f54632b4007",
        "colab": {
          "base_uri": "https://localhost:8080/",
          "height": 51
        }
      },
      "source": [
        "nombre= input(\"cual es su nombre\")\n",
        "print(\"¡Hola\",nombre,\"!\")"
      ],
      "execution_count": 0,
      "outputs": [
        {
          "output_type": "stream",
          "text": [
            "cual es su nombreyazmin\n",
            "¡Hola yazmin !\n"
          ],
          "name": "stdout"
        }
      ]
    },
    {
      "cell_type": "markdown",
      "metadata": {
        "id": "Q4gT3qtQBB8F",
        "colab_type": "text"
      },
      "source": [
        "Escribir un programa que pregunte el nombre del usuario en la consola y un número entero e imprima por pantalla en líneas distintas el nombre del usuario tantas veces como el número introducido."
      ]
    },
    {
      "cell_type": "code",
      "metadata": {
        "id": "hzdTnBDdBGHf",
        "colab_type": "code",
        "outputId": "fdd82c31-f693-4c22-8909-ee9245307ca5",
        "colab": {
          "base_uri": "https://localhost:8080/",
          "height": 425
        }
      },
      "source": [
        "nombre= input(\"cual es su nombre: \")\n",
        "numero= int(input(\"indica un numero entero: \"))\n",
        "\n",
        "for i in range(numero):\n",
        "  print(\"¡Hola\",nombre,\"! \\n\")"
      ],
      "execution_count": 0,
      "outputs": [
        {
          "output_type": "stream",
          "text": [
            "cual es su nombre: robert\n",
            "indica un numero entero: 11\n",
            "¡Hola robert ! \n",
            "\n",
            "¡Hola robert ! \n",
            "\n",
            "¡Hola robert ! \n",
            "\n",
            "¡Hola robert ! \n",
            "\n",
            "¡Hola robert ! \n",
            "\n",
            "¡Hola robert ! \n",
            "\n",
            "¡Hola robert ! \n",
            "\n",
            "¡Hola robert ! \n",
            "\n",
            "¡Hola robert ! \n",
            "\n",
            "¡Hola robert ! \n",
            "\n",
            "¡Hola robert ! \n",
            "\n"
          ],
          "name": "stdout"
        }
      ]
    },
    {
      "cell_type": "markdown",
      "metadata": {
        "id": "_3eY0I1FBVZB",
        "colab_type": "text"
      },
      "source": [
        "Escribir un programa que pregunte al usuario por el número de horas trabajadas y el coste por hora. Después debe mostrar por pantalla la paga que le corresponde."
      ]
    },
    {
      "cell_type": "code",
      "metadata": {
        "id": "5yLsZanJBZDW",
        "colab_type": "code",
        "outputId": "2aa95c77-641e-4362-e65d-f3671d9f30c7",
        "colab": {
          "base_uri": "https://localhost:8080/",
          "height": 68
        }
      },
      "source": [
        "horas= int(input(\"Digite numero de horas trabajada: \"))\n",
        "valorHora= int(input(\"Digite el valor d cada hora: \"))\n",
        "\n",
        "pago=horas*valorHora\n",
        "\n",
        "print(\"Usted se ha ganado\",pago)"
      ],
      "execution_count": 0,
      "outputs": [
        {
          "output_type": "stream",
          "text": [
            "Digite numero de horas trabajada: 11\n",
            "Digite el valor d cada hora: 3000\n",
            "Usted se ha ganado 33000\n"
          ],
          "name": "stdout"
        }
      ]
    },
    {
      "cell_type": "markdown",
      "metadata": {
        "id": "dAT2wOetBqG3",
        "colab_type": "text"
      },
      "source": [
        "Escribir un programa que pida al usuario una palabra y la muestre por pantalla 10 veces."
      ]
    },
    {
      "cell_type": "code",
      "metadata": {
        "id": "S-FfCZydBt35",
        "colab_type": "code",
        "outputId": "4880762a-9910-4e2b-d7e0-f4065f45fffb",
        "colab": {
          "base_uri": "https://localhost:8080/",
          "height": 374
        }
      },
      "source": [
        "palabra= input(\"escriba una palabra: \")\n",
        "\n",
        "for i in range(10):\n",
        "  print(palabra,\"\\n\")"
      ],
      "execution_count": 0,
      "outputs": [
        {
          "output_type": "stream",
          "text": [
            "escriba una palabra: corazon\n",
            "corazon \n",
            "\n",
            "corazon \n",
            "\n",
            "corazon \n",
            "\n",
            "corazon \n",
            "\n",
            "corazon \n",
            "\n",
            "corazon \n",
            "\n",
            "corazon \n",
            "\n",
            "corazon \n",
            "\n",
            "corazon \n",
            "\n",
            "corazon \n",
            "\n"
          ],
          "name": "stdout"
        }
      ]
    },
    {
      "cell_type": "markdown",
      "metadata": {
        "id": "aw6NYzECB6vB",
        "colab_type": "text"
      },
      "source": [
        "Escribir un programa que pregunte al usuario su edad y muestre por pantalla todos los años que ha cumplido (desde 1 hasta su edad).\n",
        "\n"
      ]
    },
    {
      "cell_type": "code",
      "metadata": {
        "id": "DSUl_0DCB-PR",
        "colab_type": "code",
        "outputId": "9a3b6b91-27eb-4131-e132-be8bf9596618",
        "colab": {
          "base_uri": "https://localhost:8080/",
          "height": 1000
        }
      },
      "source": [
        "edad= int(input(\"ingrese su edad: \"))\n",
        "\n",
        "for i in range(edad):\n",
        "  print(\"edad desde niño hasta ahora\",i+1,\"\\n\")"
      ],
      "execution_count": 0,
      "outputs": [
        {
          "output_type": "stream",
          "text": [
            "ingrese su edad: 34\n",
            "edad desde niño hasta ahora 1 \n",
            "\n",
            "edad desde niño hasta ahora 2 \n",
            "\n",
            "edad desde niño hasta ahora 3 \n",
            "\n",
            "edad desde niño hasta ahora 4 \n",
            "\n",
            "edad desde niño hasta ahora 5 \n",
            "\n",
            "edad desde niño hasta ahora 6 \n",
            "\n",
            "edad desde niño hasta ahora 7 \n",
            "\n",
            "edad desde niño hasta ahora 8 \n",
            "\n",
            "edad desde niño hasta ahora 9 \n",
            "\n",
            "edad desde niño hasta ahora 10 \n",
            "\n",
            "edad desde niño hasta ahora 11 \n",
            "\n",
            "edad desde niño hasta ahora 12 \n",
            "\n",
            "edad desde niño hasta ahora 13 \n",
            "\n",
            "edad desde niño hasta ahora 14 \n",
            "\n",
            "edad desde niño hasta ahora 15 \n",
            "\n",
            "edad desde niño hasta ahora 16 \n",
            "\n",
            "edad desde niño hasta ahora 17 \n",
            "\n",
            "edad desde niño hasta ahora 18 \n",
            "\n",
            "edad desde niño hasta ahora 19 \n",
            "\n",
            "edad desde niño hasta ahora 20 \n",
            "\n",
            "edad desde niño hasta ahora 21 \n",
            "\n",
            "edad desde niño hasta ahora 22 \n",
            "\n",
            "edad desde niño hasta ahora 23 \n",
            "\n",
            "edad desde niño hasta ahora 24 \n",
            "\n",
            "edad desde niño hasta ahora 25 \n",
            "\n",
            "edad desde niño hasta ahora 26 \n",
            "\n",
            "edad desde niño hasta ahora 27 \n",
            "\n",
            "edad desde niño hasta ahora 28 \n",
            "\n",
            "edad desde niño hasta ahora 29 \n",
            "\n",
            "edad desde niño hasta ahora 30 \n",
            "\n",
            "edad desde niño hasta ahora 31 \n",
            "\n",
            "edad desde niño hasta ahora 32 \n",
            "\n",
            "edad desde niño hasta ahora 33 \n",
            "\n",
            "edad desde niño hasta ahora 34 \n",
            "\n"
          ],
          "name": "stdout"
        }
      ]
    },
    {
      "cell_type": "markdown",
      "metadata": {
        "id": "Flfiq1tDCLs1",
        "colab_type": "text"
      },
      "source": [
        "Escribir un programa que pida al usuario un número entero positivo y muestre por pantalla todos los números impares desde 1 hasta ese número separados por comas."
      ]
    },
    {
      "cell_type": "code",
      "metadata": {
        "id": "E_mZB_dVCROL",
        "colab_type": "code",
        "outputId": "da54e2c7-5e0c-4751-b39b-8c427c1ff489",
        "colab": {
          "base_uri": "https://localhost:8080/",
          "height": 272
        }
      },
      "source": [
        "numero= int(input(\"ingrese un numero entero positivo: \"))\n",
        "\n",
        "for i in range(numero):\n",
        "  num=i+1\n",
        "  if(num%2!=0):\n",
        "    print(\"numeros impares\",num,\"\\n\")"
      ],
      "execution_count": 0,
      "outputs": [
        {
          "output_type": "stream",
          "text": [
            "ingrese un numero entero positivo: 14\n",
            "numeros impares 1 \n",
            "\n",
            "numeros impares 3 \n",
            "\n",
            "numeros impares 5 \n",
            "\n",
            "numeros impares 7 \n",
            "\n",
            "numeros impares 9 \n",
            "\n",
            "numeros impares 11 \n",
            "\n",
            "numeros impares 13 \n",
            "\n"
          ],
          "name": "stdout"
        }
      ]
    },
    {
      "cell_type": "markdown",
      "metadata": {
        "id": "G9xKFC8hCb-c",
        "colab_type": "text"
      },
      "source": [
        ""
      ]
    },
    {
      "cell_type": "code",
      "metadata": {
        "id": "BDMCexRMASz-",
        "colab_type": "code",
        "colab": {}
      },
      "source": [
        ""
      ],
      "execution_count": 0,
      "outputs": []
    },
    {
      "cell_type": "markdown",
      "metadata": {
        "id": "S9zeQfCuAK_P",
        "colab_type": "text"
      },
      "source": [
        ""
      ]
    }
  ]
}